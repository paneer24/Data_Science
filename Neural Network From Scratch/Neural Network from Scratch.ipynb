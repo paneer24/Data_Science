{
 "cells": [
  {
   "cell_type": "code",
   "execution_count": 2,
   "id": "8d16de0f",
   "metadata": {},
   "outputs": [],
   "source": [
    "a=[0,0,1,1,0,0,\n",
    "  0,1,0,0,1,0,\n",
    "  1,1,1,1,1,1,\n",
    "  1,0,0,0,0,1,\n",
    "  1,0,0,0,0,1]\n",
    "b=[0,1,1,1,1,0,\n",
    "  0,1,0,0,1,0,\n",
    "  0,1,1,1,1,1,\n",
    "  0,1,0,0,1,0,\n",
    "  0,1,1,1,1,0]\n",
    "c=[0,1,1,1,1,0,\n",
    "  0,1,0,0,0,0,\n",
    "  0,1,0,0,0,0,\n",
    "  0,1,0,0,0,0,\n",
    "   0,1,1,1,1,0]"
   ]
  },
  {
   "cell_type": "code",
   "execution_count": 3,
   "id": "e217f957",
   "metadata": {},
   "outputs": [],
   "source": [
    "y=[[1,0,0],\n",
    "  [0,1,0],\n",
    "  [0,0,1]]"
   ]
  },
  {
   "cell_type": "code",
   "execution_count": 4,
   "id": "302b065f",
   "metadata": {},
   "outputs": [],
   "source": [
    "import numpy as np\n",
    "import matplotlib.pyplot as plt"
   ]
  },
  {
   "cell_type": "code",
   "execution_count": 5,
   "id": "ecc66aac",
   "metadata": {},
   "outputs": [
    {
     "data": {
      "image/png": "[encoded data removed]",
      "text/plain": [
       "<Figure size 640x480 with 1 Axes>"
      ]
     },
     "metadata": {},
     "output_type": "display_data"
    }
   ],
   "source": [
    "plt.imshow(np.array(a).reshape(5,6))\n",
    "plt.show()"
   ]
  },
  {
   "cell_type": "code",
   "execution_count": 6,
   "id": "b03aa51a",
   "metadata": {},
   "outputs": [
    {
     "name": "stdout",
     "output_type": "stream",
     "text": [
      "[array([[0, 0, 1, 1, 0, 0, 0, 1, 0, 0, 1, 0, 1, 1, 1, 1, 1, 1, 1, 0, 0, 0,\n",
      "        0, 1, 1, 0, 0, 0, 0, 1]]), array([[0, 1, 1, 1, 1, 0, 0, 1, 0, 0, 1, 0, 0, 1, 1, 1, 1, 1, 0, 1, 0, 0,\n",
      "        1, 0, 0, 1, 1, 1, 1, 0]]), array([[0, 1, 1, 1, 1, 0, 0, 1, 0, 0, 0, 0, 0, 1, 0, 0, 0, 0, 0, 1, 0, 0,\n",
      "        0, 0, 0, 1, 1, 1, 1, 0]])] \n",
      "\n",
      " [[1 0 0]\n",
      " [0 1 0]\n",
      " [0 0 1]]\n"
     ]
    }
   ],
   "source": [
    "x=[np.array(a).reshape(1,30),np.array(b).reshape(1,30), np.array(c).reshape(1,30)]\n",
    "y=np.array(y)\n",
    "print(x,'\\n\\n',y)"
   ]
  },
  {
   "cell_type": "code",
   "execution_count": 7,
   "id": "19d5098d",
   "metadata": {},
   "outputs": [],
   "source": [
    "def sigmoid(x):\n",
    "    return (1/(1+np.exp(-x)))"
   ]
  },
  {
   "cell_type": "code",
   "execution_count": 8,
   "id": "6bcbdb0d",
   "metadata": {},
   "outputs": [],
   "source": [
    "def forward(x,w1,w2):\n",
    "    z1=x.dot(w1)\n",
    "    a1=sigmoid(z1)\n",
    "    z2=a1.dot(w2)\n",
    "    a2=sigmoid(z2)\n",
    "    return(a2)"
   ]
  },
  {
   "cell_type": "code",
   "execution_count": 9,
   "id": "4b717a6d",
   "metadata": {},
   "outputs": [],
   "source": [
    "def generate(x,y):\n",
    "    l=[]\n",
    "    for i in range(x*y):\n",
    "        l.append(np.random.randn())\n",
    "    return(np.array(l).reshape(x,y))"
   ]
  },
  {
   "cell_type": "code",
   "execution_count": 10,
   "id": "c054afa3",
   "metadata": {},
   "outputs": [],
   "source": [
    "def loss(out,Y):\n",
    "    s=(np.square(out-Y))\n",
    "    s=np.sum(s)/len(y)\n",
    "    return s"
   ]
  },
  {
   "cell_type": "code",
   "execution_count": 11,
   "id": "71e71a10",
   "metadata": {},
   "outputs": [],
   "source": [
    "def back_propagation(x,y,w1,w2,alpha):\n",
    "    z1=x.dot(w1)\n",
    "    a1=sigmoid(z1)\n",
    "    z2=a1.dot(w2)\n",
    "    a2=sigmoid(z2)\n",
    "    d2=(a2-y)\n",
    "    d1 = np.multiply((w2.dot(d2.transpose())).transpose(), np.multiply(a1, 1 - a1))\n",
    "    w1_adj=x.transpose().dot(d1)\n",
    "    w2_adj=a1.transpose().dot(d2)\n",
    "    w1=w1-(alpha*(w1_adj))\n",
    "    w2=w2-(alpha*(w2_adj))\n",
    "    return (w1,w2)"
   ]
  },
  {
   "cell_type": "code",
   "execution_count": 12,
   "id": "522e3c70",
   "metadata": {},
   "outputs": [],
   "source": [
    "def train(x, Y, w1, w2, alpha=0.01, epoch=10):\n",
    "    acc = []\n",
    "    losses = []  # Renamed to avoid conflict with the loss function\n",
    "    for j in range(epoch):\n",
    "        l = []\n",
    "        for i in range(len(x)):\n",
    "            out = forward(x[i], w1, w2)  # Corrected indexing\n",
    "            l.append(loss(out, Y[i]))  # Ensure loss function is used correctly\n",
    "            w1, w2 = back_propagation(x[i], Y[i], w1, w2, alpha)  # Consistent variable names\n",
    "        print(\"Epochs: \", j+1, \"acc:\", (1 - sum(l) / len(x)) * 100)\n",
    "        acc.append((1 - sum(l) / len(x)) * 100)\n",
    "        losses.append(sum(l) / len(x))\n",
    "    return (acc, losses, w1, w2)"
   ]
  },
  {
   "cell_type": "code",
   "execution_count": 13,
   "id": "917beb08",
   "metadata": {},
   "outputs": [],
   "source": [
    "def predict(x,w1,w2):\n",
    "    Out=forward(x,w1,w2)\n",
    "    maxm=0\n",
    "    k=0\n",
    "    for i in range(len(Out[0])):\n",
    "        if(maxm<Out[0][i]):\n",
    "            maxm=Out[0][i]\n",
    "            k=i\n",
    "    if(k==0):\n",
    "        print(\"Image is of letter A\")\n",
    "    elif(k==1):\n",
    "        print(\"IMage is of letter B\")\n",
    "    else:\n",
    "        print(\"Image is of letter C\")\n",
    "    plt.imshow(x.reshape(5,6))\n",
    "    plt.show()"
   ]
  },
  {
   "cell_type": "code",
   "execution_count": 14,
   "id": "5b64db1b",
   "metadata": {},
   "outputs": [
    {
     "name": "stdout",
     "output_type": "stream",
     "text": [
      "[[ 0.50664831  1.11713336 -0.93273528  0.98289159  0.08037699]\n",
      " [ 0.01497374 -0.79285388  1.19691609  0.1159622  -0.24464947]\n",
      " [ 0.67151423  1.31093682 -0.70743607  1.18801792  0.1395281 ]\n",
      " [ 0.50445615 -1.47580367 -0.05749458  0.3065981  -0.30538432]\n",
      " [ 1.34269935 -0.12541032  0.70283775  0.9761699   0.86152429]\n",
      " [ 0.87332823 -0.08518488  0.32248171 -0.88982307 -0.70318313]\n",
      " [-1.33964345 -0.35216127 -0.50470721  1.21207666  0.38285389]\n",
      " [ 0.42260096  1.4841843  -0.33512243  0.09407304 -1.44420924]\n",
      " [ 1.47542525 -1.67180493  0.62548173  0.13414806  0.28266578]\n",
      " [-0.97107997  2.56023437 -1.30068616 -0.63794444  1.24705009]\n",
      " [ 0.55234085  0.53277648 -0.41545302  0.3816331   0.56328571]\n",
      " [ 0.77649364  0.23569808 -0.47422249 -0.70946367  0.51889677]\n",
      " [-1.80179309 -0.27051855 -0.06381571 -0.49383924  0.38309022]\n",
      " [ 0.29192218  0.54055627 -1.03690536  0.37452826  0.98147425]\n",
      " [-1.43699606 -0.58720035 -0.35565376  0.91294592  0.66238051]\n",
      " [ 0.13612809  1.63131065 -0.42790451  1.54956041 -1.08170827]\n",
      " [-0.11176348  0.62778263 -1.462991    0.32276611  0.9351358 ]\n",
      " [-0.78021566 -0.1086205   0.1624271   0.97754442 -0.15909457]\n",
      " [-0.11379137 -0.65237742 -0.23943858  0.50491771  0.60166913]\n",
      " [-0.85108733 -2.23147169  0.60555664 -0.10897354  0.61595901]\n",
      " [ 0.5625819  -0.19210443  0.77776142 -1.36787212  0.87068933]\n",
      " [-0.38309224 -0.98402763  1.81137373  1.13283959 -0.58366065]\n",
      " [ 0.87510992  0.75448162  0.72078024  1.29078594  1.80202336]\n",
      " [-1.13009517 -1.70676549  1.2601505   0.91108049 -1.14388161]\n",
      " [-0.48086737  0.17575231 -1.35784538 -0.22814143 -0.53695901]\n",
      " [ 0.42689162  0.19125405  2.43882331 -1.33249021 -0.52766059]\n",
      " [ 0.27112926 -0.7911377  -0.07692424  0.50102728  1.62211247]\n",
      " [-0.19716967  1.63449086 -0.10754855  0.93943463 -0.79636101]\n",
      " [ 0.19366319  0.40278639 -1.57248187 -0.54801623 -0.57035023]\n",
      " [-0.06981648  0.58633799 -1.39089344 -1.07877485  0.01747245]] \n",
      " [[-0.6797017  -0.76418301  0.47389617]\n",
      " [-0.20194503  1.27841493  1.36908078]\n",
      " [-0.11934093  0.9751549   0.10370298]\n",
      " [-0.40268355 -1.34053067 -0.12545061]\n",
      " [-0.23246875  0.59516118 -1.05120529]]\n"
     ]
    }
   ],
   "source": [
    "w1=generate(30,5)\n",
    "w2=generate(5,3)\n",
    "print(w1,\"\\n\",w2)"
   ]
  },
  {
   "cell_type": "code",
   "execution_count": 15,
   "id": "2cbb05a8",
   "metadata": {},
   "outputs": [
    {
     "name": "stdout",
     "output_type": "stream",
     "text": [
      "Epochs:  1 acc: 74.4597837569603\n",
      "Epochs:  2 acc: 76.15644428174191\n",
      "Epochs:  3 acc: 77.63772523380511\n",
      "Epochs:  4 acc: 78.95258000771868\n",
      "Epochs:  5 acc: 80.13922956929946\n",
      "Epochs:  6 acc: 81.2203943619534\n",
      "Epochs:  7 acc: 82.20499789438303\n",
      "Epochs:  8 acc: 83.09383921658102\n",
      "Epochs:  9 acc: 83.88680624841534\n",
      "Epochs:  10 acc: 84.58824058965246\n",
      "Epochs:  11 acc: 85.20795419004426\n",
      "Epochs:  12 acc: 85.7588151921211\n",
      "Epochs:  13 acc: 86.25377737244224\n",
      "Epochs:  14 acc: 86.70410337144216\n",
      "Epochs:  15 acc: 87.11883573701226\n",
      "Epochs:  16 acc: 87.50495018126337\n",
      "Epochs:  17 acc: 87.86773702666065\n",
      "Epochs:  18 acc: 88.2111907748167\n",
      "Epochs:  19 acc: 88.53833427617809\n",
      "Epochs:  20 acc: 88.85146781491335\n",
      "Epochs:  21 acc: 89.15235432270353\n",
      "Epochs:  22 acc: 89.44235556845221\n",
      "Epochs:  23 acc: 89.72253225030204\n",
      "Epochs:  24 acc: 89.99371790246914\n",
      "Epochs:  25 acc: 90.2565738419429\n",
      "Epochs:  26 acc: 90.51163031953746\n",
      "Epochs:  27 acc: 90.75931755193513\n",
      "Epochs:  28 acc: 90.99998926311606\n",
      "Epochs:  29 acc: 91.23394063034716\n",
      "Epochs:  30 acc: 91.46142201584347\n",
      "Epochs:  31 acc: 91.68264950198524\n",
      "Epochs:  32 acc: 91.89781298847511\n",
      "Epochs:  33 acc: 92.10708242203394\n",
      "Epochs:  34 acc: 92.31061259146487\n",
      "Epochs:  35 acc: 92.50854681842267\n",
      "Epochs:  36 acc: 92.7010197969508\n",
      "Epochs:  37 acc: 92.88815977588915\n",
      "Epochs:  38 acc: 93.07009023284344\n",
      "Epochs:  39 acc: 93.24693115323365\n",
      "Epochs:  40 acc: 93.41880000067606\n",
      "Epochs:  41 acc: 93.58581244393315\n",
      "Epochs:  42 acc: 93.74808288965549\n",
      "Epochs:  43 acc: 93.9057248581781\n",
      "Epochs:  44 acc: 94.0588512309335\n",
      "Epochs:  45 acc: 94.20757439192506\n",
      "Epochs:  46 acc: 94.35200628156147\n",
      "Epochs:  47 acc: 94.49225837844803\n",
      "Epochs:  48 acc: 94.62844162299172\n",
      "Epochs:  49 acc: 94.76066629551089\n",
      "Epochs:  50 acc: 94.88904186063962\n",
      "Epochs:  51 acc: 95.01367678896285\n",
      "Epochs:  52 acc: 95.13467836587616\n",
      "Epochs:  53 acc: 95.25215249657579\n",
      "Epochs:  54 acc: 95.36620351484868\n",
      "Epochs:  55 acc: 95.47693400198823\n",
      "Epochs:  56 acc: 95.58444462077209\n",
      "Epochs:  57 acc: 95.68883396807144\n",
      "Epochs:  58 acc: 95.79019844837975\n",
      "Epochs:  59 acc: 95.88863216940423\n",
      "Epochs:  60 acc: 95.9842268598878\n",
      "Epochs:  61 acc: 96.07707180903991\n",
      "Epochs:  62 acc: 96.16725382635273\n",
      "Epochs:  63 acc: 96.25485722015432\n",
      "Epochs:  64 acc: 96.33996379298222\n",
      "Epochs:  65 acc: 96.42265285172782\n",
      "Epochs:  66 acc: 96.50300123047512\n",
      "Epochs:  67 acc: 96.58108332401468\n",
      "Epochs:  68 acc: 96.65697113012921\n",
      "Epochs:  69 acc: 96.7307342989025\n",
      "Epochs:  70 acc: 96.8024401874813\n",
      "Epochs:  71 acc: 96.87215391890632\n",
      "Epochs:  72 acc: 96.93993844381512\n",
      "Epochs:  73 acc: 97.00585460399749\n",
      "Epochs:  74 acc: 97.06996119695013\n",
      "Epochs:  75 acc: 97.13231504072746\n",
      "Epochs:  76 acc: 97.19297103851889\n",
      "Epochs:  77 acc: 97.25198224250029\n",
      "Epochs:  78 acc: 97.30939991660658\n",
      "Epochs:  79 acc: 97.36527359795869\n",
      "Epochs:  80 acc: 97.41965115674832\n",
      "Epochs:  81 acc: 97.47257885444316\n",
      "Epochs:  82 acc: 97.52410140022276\n",
      "Epochs:  83 acc: 97.57426200559405\n",
      "Epochs:  84 acc: 97.6231024371655\n",
      "Epochs:  85 acc: 97.67066306758292\n",
      "Epochs:  86 acc: 97.71698292464804\n",
      "Epochs:  87 acc: 97.76209973865424\n",
      "Epochs:  88 acc: 97.8060499879842\n",
      "Epochs:  89 acc: 97.84886894302016\n",
      "Epochs:  90 acc: 97.8905907084229\n",
      "Epochs:  91 acc: 97.93124826383722\n",
      "Epochs:  92 acc: 97.97087350308337\n",
      "Epochs:  93 acc: 98.00949727189371\n",
      "Epochs:  94 acc: 98.04714940425299\n",
      "Epochs:  95 acc: 98.08385875739944\n",
      "Epochs:  96 acc: 98.11965324554171\n",
      "Epochs:  97 acc: 98.15455987234532\n",
      "Epochs:  98 acc: 98.18860476223901\n",
      "Epochs:  99 acc: 98.22181319059028\n",
      "Epochs:  100 acc: 98.254209612796\n"
     ]
    }
   ],
   "source": [
    "acc,loss,w1,w2=train(x,y,w1,w2,0.1,100)"
   ]
  },
  {
   "cell_type": "code",
   "execution_count": 16,
   "id": "d0ccea3c",
   "metadata": {},
   "outputs": [
    {
     "data": {
      "image/png": "[encoded data removed]",
      "text/plain": [
       "<Figure size 640x480 with 1 Axes>"
      ]
     },
     "metadata": {},
     "output_type": "display_data"
    }
   ],
   "source": [
    "plt.plot(acc)\n",
    "plt.ylabel(\"Accuracy\")\n",
    "plt.xlabel(\"Epochs\")\n",
    "plt.show()"
   ]
  },
  {
   "cell_type": "code",
   "execution_count": 17,
   "id": "844e42f4",
   "metadata": {},
   "outputs": [
    {
     "name": "stdout",
     "output_type": "stream",
     "text": [
      "[[ 5.06648309e-01  1.11713336e+00 -9.32735280e-01  9.82891588e-01\n",
      "   8.03769853e-02]\n",
      " [-1.40206113e-03 -6.92939054e-01  1.46953878e+00  2.21465721e-01\n",
      "  -5.58491290e-01]\n",
      " [ 6.04577195e-01  7.97588920e-01 -4.91291114e-01  1.30942088e+00\n",
      "  -1.80895537e-01]\n",
      " [ 4.37519121e-01 -1.98915157e+00  1.58650380e-01  4.28001062e-01\n",
      "  -6.25807963e-01]\n",
      " [ 1.32632356e+00 -2.54954978e-02  9.75460439e-01  1.08167342e+00\n",
      "   5.47682468e-01]\n",
      " [ 8.73328234e-01 -8.51848756e-02  3.22481707e-01 -8.89823071e-01\n",
      "  -7.03183129e-01]\n",
      " [-1.33964345e+00 -3.52161271e-01 -5.04707211e-01  1.21207666e+00\n",
      "   3.82853891e-01]\n",
      " [ 3.55663933e-01  9.70836398e-01 -1.18977468e-01  2.15475993e-01\n",
      "  -1.76463288e+00]\n",
      " [ 1.47542525e+00 -1.67180493e+00  6.25481734e-01  1.34148057e-01\n",
      "   2.82665781e-01]\n",
      " [-9.71079972e-01  2.56023437e+00 -1.30068616e+00 -6.37944442e-01\n",
      "   1.24705009e+00]\n",
      " [ 1.29763166e-01  5.14364858e-01 -1.61296480e-01  3.96557724e-01\n",
      "   1.13533399e+00]\n",
      " [ 7.76493642e-01  2.35698083e-01 -4.74222488e-01 -7.09463673e-01\n",
      "   5.18896767e-01]\n",
      " [-1.85235433e+00 -8.83781278e-01 -1.20293435e-01 -4.77939802e-01\n",
      "   3.76508395e-01]\n",
      " [ 2.24985151e-01  2.72083699e-02 -8.20760397e-01  4.95931213e-01\n",
      "   6.61050613e-01]\n",
      " [-1.85957374e+00 -6.05611974e-01 -1.01497220e-01  9.27870552e-01\n",
      "   1.23442879e+00]\n",
      " [-2.86449594e-01  1.61289902e+00 -1.73747965e-01  1.56448504e+00\n",
      "  -5.09659989e-01]\n",
      " [-5.34341159e-01  6.09371001e-01 -1.20883446e+00  3.37690741e-01\n",
      "   1.50718408e+00]\n",
      " [-1.20279335e+00 -1.27032121e-01  4.16583648e-01  9.92469048e-01\n",
      "   4.12953710e-01]\n",
      " [-1.64352603e-01 -1.26564015e+00 -2.95916305e-01  5.20817144e-01\n",
      "   5.95087309e-01]\n",
      " [-8.67463123e-01 -2.13155687e+00  8.78179328e-01 -3.47002281e-03\n",
      "   3.02117189e-01]\n",
      " [ 5.62581899e-01 -1.92104435e-01  7.77761417e-01 -1.36787212e+00\n",
      "   8.70689329e-01]\n",
      " [-3.83092244e-01 -9.84027628e-01  1.81137373e+00  1.13283959e+00\n",
      "  -5.83660651e-01]\n",
      " [ 5.03093467e-01  1.34933273e+00  1.03141451e+00  1.28981113e+00\n",
      "   2.38065347e+00]\n",
      " [-1.18065641e+00 -2.32002822e+00  1.20367277e+00  9.26979925e-01\n",
      "  -1.15046343e+00]\n",
      " [-5.31428608e-01 -4.37510417e-01 -1.41432311e+00 -2.12241994e-01\n",
      "  -5.43540829e-01]\n",
      " [ 4.10515824e-01  2.91168872e-01  2.71144600e+00 -1.22698669e+00\n",
      "  -8.41502410e-01]\n",
      " [ 2.54753460e-01 -6.91222878e-01  1.95698443e-01  6.06530802e-01\n",
      "   1.30827066e+00]\n",
      " [-2.13545469e-01  1.73440568e+00  1.65074138e-01  1.04493815e+00\n",
      "  -1.11020282e+00]\n",
      " [ 1.77287389e-01  5.02701216e-01 -1.29985918e+00 -4.42512711e-01\n",
      "  -8.84192050e-01]\n",
      " [-1.20377715e-01 -2.69247417e-02 -1.44737116e+00 -1.06287541e+00\n",
      "   1.08906282e-02]] \n",
      " [[-2.39307284 -1.01759215  1.73041695]\n",
      " [-0.92081834  2.47985512  0.12406421]\n",
      " [-2.11036284  1.24276344  1.07766533]\n",
      " [ 1.04004657 -2.98580317 -0.77087784]\n",
      " [ 0.56190521  1.60962294 -3.36287588]]\n"
     ]
    }
   ],
   "source": [
    "print(w1,\"\\n\",w2)"
   ]
  },
  {
   "cell_type": "code",
   "execution_count": 18,
   "id": "22b4bc87",
   "metadata": {},
   "outputs": [
    {
     "name": "stdout",
     "output_type": "stream",
     "text": [
      "Image is of letter C\n"
     ]
    },
    {
     "data": {
      "image/png": "[encoded data removed]",
      "text/plain": [
       "<Figure size 640x480 with 1 Axes>"
      ]
     },
     "metadata": {},
     "output_type": "display_data"
    }
   ],
   "source": [
    "predict(x[2],w1,w2)"
   ]
  },
  {
   "cell_type": "code",
   "execution_count": 20,
   "id": "b635f46b",
   "metadata": {},
   "outputs": [
    {
     "data": {
      "image/png": "[encoded data removed]",
      "text/plain": [
       "<Figure size 640x480 with 1 Axes>"
      ]
     },
     "metadata": {},
     "output_type": "display_data"
    }
   ],
   "source": [
    "# Plotting the loss graph\n",
    "plt.plot(loss)\n",
    "plt.ylabel(\"Loss\")\n",
    "plt.xlabel(\"Epochs\")\n",
    "plt.title(\"Loss vs. Epochs\")\n",
    "plt.show()"
   ]
  },
  {
   "cell_type": "code",
   "execution_count": null,
   "id": "0266e6b8",
   "metadata": {},
   "outputs": [],
   "source": []
  }
 ],
 "metadata": {
  "kernelspec": {
   "display_name": "Python 3 (ipykernel)",
   "language": "python",
   "name": "python3"
  },
  "language_info": {
   "codemirror_mode": {
    "name": "ipython",
    "version": 3
   },
   "file_extension": ".py",
   "mimetype": "text/x-python",
   "name": "python",
   "nbconvert_exporter": "python",
   "pygments_lexer": "ipython3",
   "version": "3.11.5"
  }
 },
 "nbformat": 4,
 "nbformat_minor": 5
}
