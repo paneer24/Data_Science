{
 "cells": [
  {
   "cell_type": "code",
   "execution_count": 1,
   "id": "8d16de0f",
   "metadata": {},
   "outputs": [],
   "source": [
    "a=[0,0,1,1,0,0,\n",
    "  0,1,0,0,1,0,\n",
    "  1,1,1,1,1,1,\n",
    "  1,0,0,0,0,1,\n",
    "  1,0,0,0,0,1]\n",
    "b=[0,1,1,1,1,0,\n",
    "  0,1,0,0,1,0,\n",
    "  0,1,1,1,1,1,\n",
    "  0,1,0,0,1,0,\n",
    "  0,1,1,1,1,0]\n",
    "c=[0,1,1,1,1,0,\n",
    "  0,1,0,0,0,0,\n",
    "  0,1,0,0,0,0,\n",
    "  0,1,0,0,0,0,\n",
    "   0,1,1,1,1,0]"
   ]
  },
  {
   "cell_type": "code",
   "execution_count": 2,
   "id": "e217f957",
   "metadata": {},
   "outputs": [],
   "source": [
    "y=[[1,0,0],\n",
    "  [0,1,0],\n",
    "  [0,0,1]]"
   ]
  },
  {
   "cell_type": "code",
   "execution_count": 3,
   "id": "302b065f",
   "metadata": {},
   "outputs": [],
   "source": [
    "import numpy as np\n",
    "import matplotlib.pyplot as plt"
   ]
  },
  {
   "cell_type": "code",
   "execution_count": 4,
   "id": "ecc66aac",
   "metadata": {},
   "outputs": [
    {
     "data": {
      "image/png": "[encoded data removed]",
      "text/plain": [
       "<Figure size 640x480 with 1 Axes>"
      ]
     },
     "metadata": {},
     "output_type": "display_data"
    }
   ],
   "source": [
    "plt.imshow(np.array(a).reshape(5,6))\n",
    "plt.show()"
   ]
  },
  {
   "cell_type": "code",
   "execution_count": 5,
   "id": "b03aa51a",
   "metadata": {},
   "outputs": [
    {
     "name": "stdout",
     "output_type": "stream",
     "text": [
      "[array([[0, 0, 1, 1, 0, 0, 0, 1, 0, 0, 1, 0, 1, 1, 1, 1, 1, 1, 1, 0, 0, 0,\n",
      "        0, 1, 1, 0, 0, 0, 0, 1]]), array([[0, 1, 1, 1, 1, 0, 0, 1, 0, 0, 1, 0, 0, 1, 1, 1, 1, 1, 0, 1, 0, 0,\n",
      "        1, 0, 0, 1, 1, 1, 1, 0]]), array([[0, 1, 1, 1, 1, 0, 0, 1, 0, 0, 0, 0, 0, 1, 0, 0, 0, 0, 0, 1, 0, 0,\n",
      "        0, 0, 0, 1, 1, 1, 1, 0]])] \n",
      "\n",
      " [[1 0 0]\n",
      " [0 1 0]\n",
      " [0 0 1]]\n"
     ]
    }
   ],
   "source": [
    "x=[np.array(a).reshape(1,30),np.array(b).reshape(1,30), np.array(c).reshape(1,30)]\n",
    "y=np.array(y)\n",
    "print(x,'\\n\\n',y)"
   ]
  },
  {
   "cell_type": "code",
   "execution_count": 7,
   "id": "19d5098d",
   "metadata": {},
   "outputs": [],
   "source": [
    "def sigmoid(x):\n",
    "    return (1/(1+np.exp(-x)))"
   ]
  },
  {
   "cell_type": "code",
   "execution_count": 9,
   "id": "6bcbdb0d",
   "metadata": {},
   "outputs": [],
   "source": [
    "def forward(x,w1,w2):\n",
    "    z1=x.dot(w1)\n",
    "    a1=sigmoid(z1)\n",
    "    z2=a1.dot(w2)\n",
    "    a2=sigmoid(z2)\n",
    "    return(a2)"
   ]
  },
  {
   "cell_type": "code",
   "execution_count": 11,
   "id": "4b717a6d",
   "metadata": {},
   "outputs": [],
   "source": [
    "def generate(x,y):\n",
    "    l=[]\n",
    "    for i in range(x*y):\n",
    "        l.append(np.random.randn())\n",
    "    return(np.array(l).reshape(x,y))"
   ]
  },
  {
   "cell_type": "code",
   "execution_count": 13,
   "id": "c054afa3",
   "metadata": {},
   "outputs": [],
   "source": [
    "def loss(out,Y):\n",
    "    s=(np.square(out-Y))\n",
    "    s=np.sum(s)/len(y)\n",
    "    return s"
   ]
  },
  {
   "cell_type": "code",
   "execution_count": 36,
   "id": "71e71a10",
   "metadata": {},
   "outputs": [],
   "source": [
    "def back_propagation(x,y,w1,w2,alpha):\n",
    "    z1=x.dot(w1)\n",
    "    a1=sigmoid(z1)\n",
    "    z2=a1.dot(w2)\n",
    "    a2=sigmoid(z2)\n",
    "    d2=(a2-y)\n",
    "    d1 = np.multiply((w2.dot(d2.transpose())).transpose(), np.multiply(a1, 1 - a1))\n",
    "    w1_adj=x.transpose().dot(d1)\n",
    "    w2_adj=a1.transpose().dot(d2)\n",
    "    w1=w1-(alpha*(w1_adj))\n",
    "    w2=w2-(alpha*(w2_adj))\n",
    "    return (w1,w2)"
   ]
  },
  {
   "cell_type": "code",
   "execution_count": 37,
   "id": "522e3c70",
   "metadata": {},
   "outputs": [],
   "source": [
    "def train(x, Y, w1, w2, alpha=0.01, epoch=10):\n",
    "    acc = []\n",
    "    losses = []  # Renamed to avoid conflict with the loss function\n",
    "    for j in range(epoch):\n",
    "        l = []\n",
    "        for i in range(len(x)):\n",
    "            out = forward(x[i], w1, w2)  # Corrected indexing\n",
    "            l.append(loss(out, Y[i]))  # Ensure loss function is used correctly\n",
    "            w1, w2 = back_propagation(x[i], Y[i], w1, w2, alpha)  # Consistent variable names\n",
    "        print(\"Epochs: \", j+1, \"acc:\", (1 - sum(l) / len(x)) * 100)\n",
    "        acc.append((1 - sum(l) / len(x)) * 100)\n",
    "        losses.append(sum(l) / len(x))\n",
    "    return (acc, losses, w1, w2)"
   ]
  },
  {
   "cell_type": "code",
   "execution_count": 38,
   "id": "917beb08",
   "metadata": {},
   "outputs": [],
   "source": [
    "def predict(x,w1,w2):\n",
    "    Out=forward(x,w1,w2)\n",
    "    maxm=0\n",
    "    k=0\n",
    "    for i in range(len(Out[0])):\n",
    "        if(maxm<Out[0][i]):\n",
    "            maxm=Out[0][i]\n",
    "            k=i\n",
    "    if(k==0):\n",
    "        print(\"Image is of letter A\")\n",
    "    elif(k==1):\n",
    "        print(\"IMage is of letter B\")\n",
    "    else:\n",
    "        print(\"Image is of letter C\")\n",
    "    plt.imshow(x.reshape(5,6))\n",
    "    plt.show()"
   ]
  },
  {
   "cell_type": "code",
   "execution_count": 39,
   "id": "5b64db1b",
   "metadata": {},
   "outputs": [
    {
     "name": "stdout",
     "output_type": "stream",
     "text": [
      "[[ 0.83652941 -0.0857955  -1.32871039 -0.89678698  0.72395766]\n",
      " [ 0.85763476 -0.44270327 -0.22440214  1.41502742 -0.79430105]\n",
      " [-0.40017792 -0.62955732  0.49670198  0.26860239  0.87390238]\n",
      " [ 1.89450897  1.10090634 -0.1261512   0.15115086 -1.12985548]\n",
      " [-0.08792189  1.29502587 -1.1514067   0.34307106  0.49761546]\n",
      " [ 0.32965537  0.16462744  0.65505064 -0.98539674  0.48490433]\n",
      " [ 2.01268447 -1.34613065  1.18785277 -1.37746228 -0.32530328]\n",
      " [-1.1147545  -1.92072891 -0.82781018 -1.48053346 -0.10128219]\n",
      " [-0.55294107  0.00698736  0.6364315  -1.0910435   0.7650911 ]\n",
      " [ 1.63653249  0.5339879   0.44213719 -0.34417468 -0.29867849]\n",
      " [ 0.2087212   0.39450268  0.23401999 -2.00658624  0.48192597]\n",
      " [ 0.38074752  0.30899531  1.45765591 -0.55038532  0.68296848]\n",
      " [-1.00133269  1.47901111  0.2796876   1.33943082  0.47747984]\n",
      " [ 0.75600547  1.04580452  1.08916584  0.5286574  -0.39717831]\n",
      " [ 0.70315488 -0.99713898 -0.30591715  0.32345658  0.36263072]\n",
      " [ 0.87421425  0.87975744 -0.06665543 -0.46427487  1.31675364]\n",
      " [ 0.35486972 -0.8547301  -1.58177119  0.69118503 -0.33479542]\n",
      " [ 0.1120132   0.23021721 -0.10066008 -0.42763641 -0.90849493]\n",
      " [ 0.73687477  0.2338055   0.86024028 -2.30048763  1.51335527]\n",
      " [-0.90388182 -1.76325608 -0.77587737 -0.57564602  1.62480859]\n",
      " [ 0.33774505 -1.98338139  0.58326086  0.62965806 -0.30246196]\n",
      " [ 0.95029017 -0.23164974  1.11259788 -0.736197    0.04672744]\n",
      " [ 0.3133146  -0.97221689 -0.42860326 -0.40914597  0.80759262]\n",
      " [ 0.38167272  0.6953799   0.68302399 -0.01800601 -0.98587499]\n",
      " [ 0.07254052 -1.95851342 -0.85940733 -0.0058552   0.67687111]\n",
      " [ 0.55410166 -1.68041901  1.26248955  0.74265921  0.76624409]\n",
      " [ 2.77397778 -1.18012826  0.29432369  0.75271616  0.35051445]\n",
      " [ 0.17091356  1.57360941  0.26919736  0.28284128  0.48206467]\n",
      " [-0.60942978 -1.66496366  0.21143443 -0.12627013 -1.45730433]\n",
      " [ 1.09414426 -1.43272911 -0.90777091  1.81962087  0.18782425]] \n",
      " [[-1.61713087  0.78864207  0.16117135]\n",
      " [ 0.48186286 -0.3086815  -1.94012048]\n",
      " [-0.2975358  -1.27193995 -1.71435304]\n",
      " [ 0.90426943 -1.25852232 -0.89748759]\n",
      " [ 0.15004059 -0.91908297  1.23022646]]\n"
     ]
    }
   ],
   "source": [
    "w1=generate(30,5)\n",
    "w2=generate(5,3)\n",
    "print(w1,\"\\n\",w2)"
   ]
  },
  {
   "cell_type": "code",
   "execution_count": 40,
   "id": "2cbb05a8",
   "metadata": {},
   "outputs": [
    {
     "name": "stdout",
     "output_type": "stream",
     "text": [
      "Epochs:  1 acc: 68.75147395238015\n",
      "Epochs:  2 acc: 70.43843371320068\n",
      "Epochs:  3 acc: 72.10898302283634\n",
      "Epochs:  4 acc: 73.70722975218519\n",
      "Epochs:  5 acc: 75.17206325351744\n",
      "Epochs:  6 acc: 76.46602880702697\n",
      "Epochs:  7 acc: 77.58968982916107\n",
      "Epochs:  8 acc: 78.56808621351901\n",
      "Epochs:  9 acc: 79.42948463725402\n",
      "Epochs:  10 acc: 80.1957822865023\n",
      "Epochs:  11 acc: 80.88235020222062\n",
      "Epochs:  12 acc: 81.5002769817903\n",
      "Epochs:  13 acc: 82.05816869483525\n",
      "Epochs:  14 acc: 82.56317053434434\n",
      "Epochs:  15 acc: 83.021468525509\n",
      "Epochs:  16 acc: 83.4385204061501\n",
      "Epochs:  17 acc: 83.81916532653321\n",
      "Epochs:  18 acc: 84.1676871722986\n",
      "Epochs:  19 acc: 84.48786413430362\n",
      "Epochs:  20 acc: 84.78301635031814\n",
      "Epochs:  21 acc: 85.05605420443833\n",
      "Epochs:  22 acc: 85.30952638150988\n",
      "Epochs:  23 acc: 85.54566595887042\n",
      "Epochs:  24 acc: 85.766433093379\n",
      "Epochs:  25 acc: 85.97355344533419\n",
      "Epochs:  26 acc: 86.16855202723276\n",
      "Epochs:  27 acc: 86.35278256018611\n",
      "Epochs:  28 acc: 86.52745265855513\n",
      "Epochs:  29 acc: 86.69364527830926\n",
      "Epochs:  30 acc: 86.85233689737014\n",
      "Epochs:  31 acc: 87.00441288045164\n",
      "Epochs:  32 acc: 87.15068044044956\n",
      "Epochs:  33 acc: 87.2918795583919\n",
      "Epochs:  34 acc: 87.4286921731272\n",
      "Epochs:  35 acc: 87.56174990492231\n",
      "Epochs:  36 acc: 87.69164053603082\n",
      "Epochs:  37 acc: 87.81891343666078\n",
      "Epochs:  38 acc: 87.94408409637548\n",
      "Epochs:  39 acc: 88.06763789809733\n",
      "Epochs:  40 acc: 88.19003325357733\n",
      "Epochs:  41 acc: 88.3117042042677\n",
      "Epochs:  42 acc: 88.43306257866563\n",
      "Epochs:  43 acc: 88.55449978490594\n",
      "Epochs:  44 acc: 88.67638830408144\n",
      "Epochs:  45 acc: 88.79908293379914\n",
      "Epochs:  46 acc: 88.9229218112054\n",
      "Epochs:  47 acc: 89.04822721864198\n",
      "Epochs:  48 acc: 89.17530614209839\n",
      "Epochs:  49 acc: 89.3044505122042\n",
      "Epochs:  50 acc: 89.43593701023946\n",
      "Epochs:  51 acc: 89.57002626982901\n",
      "Epochs:  52 acc: 89.70696125360406\n",
      "Epochs:  53 acc: 89.8469645420694\n",
      "Epochs:  54 acc: 89.99023425351893\n",
      "Epochs:  55 acc: 90.1369383399115\n",
      "Epochs:  56 acc: 90.28720710118243\n",
      "Epochs:  57 acc: 90.44112395909917\n",
      "Epochs:  58 acc: 90.59871485418957\n",
      "Epochs:  59 acc: 90.75993707431431\n",
      "Epochs:  60 acc: 90.92466884281127\n",
      "Epochs:  61 acc: 91.09270147115936\n",
      "Epochs:  62 acc: 91.26373612931214\n",
      "Epochs:  63 acc: 91.43738709085679\n",
      "Epochs:  64 acc: 91.61319252045517\n",
      "Epochs:  65 acc: 91.7906325276405\n",
      "Epochs:  66 acc: 91.96915262252546\n",
      "Epochs:  67 acc: 92.14818939662132\n",
      "Epochs:  68 acc: 92.32719473218421\n",
      "Epochs:  69 acc: 92.50565534933608\n",
      "Epochs:  70 acc: 92.68310583031007\n",
      "Epochs:  71 acc: 92.85913488002963\n",
      "Epochs:  72 acc: 93.03338591497733\n",
      "Epochs:  73 acc: 93.20555377479903\n",
      "Epochs:  74 acc: 93.37537940711242\n",
      "Epochs:  75 acc: 93.54264399913073\n",
      "Epochs:  76 acc: 93.7071634925382\n",
      "Epochs:  77 acc: 93.86878392547487\n",
      "Epochs:  78 acc: 94.02737769439426\n",
      "Epochs:  79 acc: 94.18284062971067\n",
      "Epochs:  80 acc: 94.33508969892118\n",
      "Epochs:  81 acc: 94.48406114495546\n",
      "Epochs:  82 acc: 94.62970889862939\n",
      "Epochs:  83 acc: 94.77200314731374\n",
      "Epochs:  84 acc: 94.91092898339177\n",
      "Epochs:  85 acc: 95.04648508965118\n",
      "Epochs:  86 acc: 95.17868244293814\n",
      "Epochs:  87 acc: 95.3075430330471\n",
      "Epochs:  88 acc: 95.43309860270031\n",
      "Epochs:  89 acc: 95.55538941850027\n",
      "Epochs:  90 acc: 95.67446308359702\n",
      "Epochs:  91 acc: 95.79037340181935\n",
      "Epochs:  92 acc: 95.90317930112924\n",
      "Epochs:  93 acc: 96.01294382211047\n",
      "Epochs:  94 acc: 96.11973317519342\n",
      "Epochs:  95 acc: 96.22361586866435\n",
      "Epochs:  96 acc: 96.32466190830792\n",
      "Epochs:  97 acc: 96.42294206879342\n",
      "Epochs:  98 acc: 96.51852723660043\n",
      "Epochs:  99 acc: 96.61148782430521\n",
      "Epochs:  100 acc: 96.7018932563112\n"
     ]
    }
   ],
   "source": [
    "acc,loss,w1,w2=train(x,y,w1,w2,0.1,100)"
   ]
  },
  {
   "cell_type": "code",
   "execution_count": 41,
   "id": "d0ccea3c",
   "metadata": {},
   "outputs": [
    {
     "data": {
      "image/png": "[encoded data removed]",
      "text/plain": [
       "<Figure size 640x480 with 1 Axes>"
      ]
     },
     "metadata": {},
     "output_type": "display_data"
    }
   ],
   "source": [
    "plt.plot(acc)\n",
    "plt.ylabel(\"Accuracy\")\n",
    "plt.xlabel(\"Epochs\")\n",
    "plt.show()"
   ]
  },
  {
   "cell_type": "code",
   "execution_count": 42,
   "id": "844e42f4",
   "metadata": {},
   "outputs": [
    {
     "name": "stdout",
     "output_type": "stream",
     "text": [
      "[[ 8.36529413e-01 -8.57954973e-02 -1.32871039e+00 -8.96786976e-01\n",
      "   7.23957657e-01]\n",
      " [ 8.60160584e-01 -4.65022073e-01 -7.11760027e-01  1.13274989e+00\n",
      "  -5.72841239e-01]\n",
      " [-4.94528501e-01 -2.63885620e-01  4.35907853e-01  6.66311172e-01\n",
      "   1.03233995e+00]\n",
      " [ 1.80015839e+00  1.46657804e+00 -1.86945328e-01  5.48859639e-01\n",
      "  -9.71417917e-01]\n",
      " [-8.53960644e-02  1.27270706e+00 -1.63876458e+00  6.07935327e-02\n",
      "   7.19075274e-01]\n",
      " [ 3.29655374e-01  1.64627444e-01  6.55050644e-01 -9.85396745e-01\n",
      "   4.84904329e-01]\n",
      " [ 2.01268447e+00 -1.34613065e+00  1.18785277e+00 -1.37746228e+00\n",
      "  -3.25303284e-01]\n",
      " [-1.20910508e+00 -1.55505722e+00 -8.88604309e-01 -1.08282468e+00\n",
      "   5.71553762e-02]\n",
      " [-5.52941070e-01  6.98735614e-03  6.36431498e-01 -1.09104350e+00\n",
      "   7.65091102e-01]\n",
      " [ 1.63653249e+00  5.33987896e-01  4.42137195e-01 -3.44174677e-01\n",
      "  -2.98678486e-01]\n",
      " [ 1.32296599e-01  1.25029703e+00  6.23455835e-01 -2.27652385e+00\n",
      "   1.57723519e-01]\n",
      " [ 3.80747523e-01  3.08995314e-01  1.45765591e+00 -5.50385315e-01\n",
      "   6.82968483e-01]\n",
      " [-1.09820910e+00  1.86700161e+00  7.06251360e-01  2.01941712e+00\n",
      "   4.14457587e-01]\n",
      " [ 6.61654893e-01  1.41147621e+00  1.02837172e+00  9.26366183e-01\n",
      "  -2.38740744e-01]\n",
      " [ 6.26730279e-01 -1.41344642e-01  8.35186901e-02  5.35189711e-02\n",
      "   3.84282620e-02]\n",
      " [ 7.97789649e-01  1.73555179e+00  3.22780416e-01 -7.34212477e-01\n",
      "   9.92551190e-01]\n",
      " [ 2.78445125e-01  1.06423693e-03 -1.19233534e+00  4.21247415e-01\n",
      "  -6.58997871e-01]\n",
      " [ 3.55885984e-02  1.08601155e+00  2.88775762e-01 -6.97574024e-01\n",
      "  -1.23269738e+00]\n",
      " [ 6.39998361e-01  6.21796006e-01  1.28680404e+00 -1.62050132e+00\n",
      "   1.45033302e+00]\n",
      " [-9.01355990e-01 -1.78557489e+00 -1.26323525e+00 -8.57923552e-01\n",
      "   1.84626840e+00]\n",
      " [ 3.37745053e-01 -1.98338139e+00  5.83260856e-01  6.29658060e-01\n",
      "  -3.02461961e-01]\n",
      " [ 9.50290166e-01 -2.31649737e-01  1.11259788e+00 -7.36197002e-01\n",
      "   4.67274401e-02]\n",
      " [ 3.33766411e-01 -5.04413055e-01 -4.65731175e-01 -1.35906989e+00\n",
      "   5.46412421e-01]\n",
      " [ 2.84796316e-01  1.08337041e+00  1.10958774e+00  6.61980297e-01\n",
      "  -1.04889724e+00]\n",
      " [-2.43358926e-02 -1.57052292e+00 -4.32843570e-01  6.74131106e-01\n",
      "   6.13848862e-01]\n",
      " [ 5.56627492e-01 -1.70273781e+00  7.75131671e-01  4.60381686e-01\n",
      "   9.87703910e-01]\n",
      " [ 2.77650361e+00 -1.20244707e+00 -1.93034196e-01  4.70438628e-01\n",
      "   5.71974263e-01]\n",
      " [ 1.73439392e-01  1.55129060e+00 -2.18160519e-01  5.63749294e-04\n",
      "   7.03524486e-01]\n",
      " [-6.06903955e-01 -1.68728247e+00 -2.75923452e-01 -4.08547654e-01\n",
      "  -1.23584452e+00]\n",
      " [ 9.97267850e-01 -1.04473861e+00 -4.81207155e-01  2.49960717e+00\n",
      "   1.24801995e-01]] \n",
      " [[-2.63157904  1.43269152 -0.21149079]\n",
      " [ 2.52764133 -0.17700887 -2.96617366]\n",
      " [ 1.29951989 -1.90674623 -1.61147155]\n",
      " [ 1.32685524 -2.92937563  1.03487398]\n",
      " [-0.93157328 -0.15891495  0.70324223]]\n"
     ]
    }
   ],
   "source": [
    "print(w1,\"\\n\",w2)"
   ]
  },
  {
   "cell_type": "code",
   "execution_count": 44,
   "id": "22b4bc87",
   "metadata": {},
   "outputs": [
    {
     "name": "stdout",
     "output_type": "stream",
     "text": [
      "Image is of letter C\n"
     ]
    },
    {
     "data": {
      "image/png": "[encoded data removed]",
      "text/plain": [
       "<Figure size 640x480 with 1 Axes>"
      ]
     },
     "metadata": {},
     "output_type": "display_data"
    }
   ],
   "source": [
    "predict(x[2],w1,w2)"
   ]
  },
  {
   "cell_type": "code",
   "execution_count": null,
   "id": "b635f46b",
   "metadata": {},
   "outputs": [],
   "source": []
  }
 ],
 "metadata": {
  "kernelspec": {
   "display_name": "Python 3 (ipykernel)",
   "language": "python",
   "name": "python3"
  },
  "language_info": {
   "codemirror_mode": {
    "name": "ipython",
    "version": 3
   },
   "file_extension": ".py",
   "mimetype": "text/x-python",
   "name": "python",
   "nbconvert_exporter": "python",
   "pygments_lexer": "ipython3",
   "version": "3.11.5"
  }
 },
 "nbformat": 4,
 "nbformat_minor": 5
}
